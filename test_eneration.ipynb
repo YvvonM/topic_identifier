{
 "cells": [
  {
   "cell_type": "code",
   "execution_count": 1,
   "id": "7ae96f7f",
   "metadata": {},
   "outputs": [],
   "source": [
    "#importing libraires\n",
    "from langchain.prompts import PromptTemplate\n",
    "from langchain_ollama import OllamaLLM\n",
    "from langchain.text_splitter import RecursiveCharacterTextSplitter\n",
    "from langchain_huggingface import HuggingFaceEmbeddings\n",
    "from langchain_community.vectorstores import Chroma\n",
    "from langchain_core.output_parsers import StrOutputParser\n",
    "from langchain.prompts import ChatPromptTemplate\n",
    "from langchain.retrievers import ParentDocumentRetriever\n",
    "from langchain.storage import InMemoryStore \n",
    "from langchain_core.documents import Document\n",
    "from typing import List\n",
    "import chromadb\n",
    "import json\n",
    "import re\n"
   ]
  },
  {
   "cell_type": "code",
   "execution_count": 2,
   "id": "87c6a15e",
   "metadata": {},
   "outputs": [],
   "source": [
    "#initializing the text splitter\n",
    "parent_splitter = RecursiveCharacterTextSplitter(chunk_size=1000, chunk_overlap=50)\n",
    "child_splitter = RecursiveCharacterTextSplitter(chunk_size=500, chunk_overlap=25)"
   ]
  },
  {
   "cell_type": "code",
   "execution_count": 3,
   "id": "54e95694",
   "metadata": {},
   "outputs": [
    {
     "name": "stderr",
     "output_type": "stream",
     "text": [
      "/workspace/topic_identifier/myenv/lib/python3.12/site-packages/tqdm/auto.py:21: TqdmWarning: IProgress not found. Please update jupyter and ipywidgets. See https://ipywidgets.readthedocs.io/en/stable/user_install.html\n",
      "  from .autonotebook import tqdm as notebook_tqdm\n"
     ]
    }
   ],
   "source": [
    "#initializing the embedder\n",
    "embedding_model = HuggingFaceEmbeddings(model_name = \"BAAI/bge-base-en-v1.5\")"
   ]
  },
  {
   "cell_type": "code",
   "execution_count": 4,
   "id": "363dcf43",
   "metadata": {},
   "outputs": [
    {
     "name": "stderr",
     "output_type": "stream",
     "text": [
      "/tmp/ipykernel_244143/3700064525.py:2: LangChainDeprecationWarning: The class `Chroma` was deprecated in LangChain 0.2.9 and will be removed in 1.0. An updated version of the class exists in the :class:`~langchain-chroma package and should be used instead. To use it run `pip install -U :class:`~langchain-chroma` and import as `from :class:`~langchain_chroma import Chroma``.\n",
      "  vectorstore = Chroma(\n"
     ]
    }
   ],
   "source": [
    "#defining the db\n",
    "vectorstore = Chroma(\n",
    "    persist_directory=\"/workspace/topic_identifier/chroma_db\",\n",
    "    embedding_function=embedding_model\n",
    "\n",
    ")"
   ]
  },
  {
   "cell_type": "code",
   "execution_count": 5,
   "id": "2b36e3fb",
   "metadata": {},
   "outputs": [],
   "source": [
    "store = InMemoryStore()"
   ]
  },
  {
   "cell_type": "code",
   "execution_count": 6,
   "id": "5caa98ff",
   "metadata": {},
   "outputs": [],
   "source": [
    "#defining the retriever\n",
    "retriever = ParentDocumentRetriever(\n",
    "    vectorstore = vectorstore,\n",
    "    docstore = store, \n",
    "    parent_splitter = parent_splitter,\n",
    "    child_splitter = child_splitter   \n",
    ")"
   ]
  },
  {
   "cell_type": "code",
   "execution_count": 7,
   "id": "d92f88f5",
   "metadata": {},
   "outputs": [],
   "source": [
    "def get_topics(vectorstore):\n",
    "    client = chromadb.PersistentClient(path=\"/workspace/topic_identifier/chroma_db\")\n",
    "    collection_name = \"test_documents\"\n",
    "    collection = client.get_collection(collection_name)\n",
    "    results = collection.get(include=['metadatas'])\n",
    "    dict_topics = results['metadatas']\n",
    "    topics = list(set(dict['topic'] for dict in dict_topics ))\n",
    "    return topics\n"
   ]
  },
  {
   "cell_type": "code",
   "execution_count": 8,
   "id": "786416da",
   "metadata": {},
   "outputs": [],
   "source": [
    "# #getting the relevant parent documents\n",
    "# def get_parent_docs(topic: str):\n",
    "#     query = f\"Get information about {topic}\"\n",
    "#     retrieved_docs = retriever.get_relevant_documents(query)\n",
    "#     return retrieved_docs\n"
   ]
  },
  {
   "cell_type": "code",
   "execution_count": 9,
   "id": "37b37866",
   "metadata": {},
   "outputs": [],
   "source": [
    "def get_parent_docs(topic):\n",
    "    return retriever.vectorstore.similarity_search(\n",
    "        query=\"\",  # no embedding query\n",
    "        k=100,\n",
    "        filter={\"topic\": topic}\n",
    "    )"
   ]
  },
  {
   "cell_type": "code",
   "execution_count": 10,
   "id": "ad389417",
   "metadata": {},
   "outputs": [],
   "source": [
    "#extracting  the topics json file from the output\n",
    "def extract_json_array(output):\n",
    "    # Look for the first valid JSON array in the output\n",
    "    match = re.search(r'\\[.*?\\]', output, re.DOTALL)\n",
    "    if match:\n",
    "        try:\n",
    "            return json.loads(match.group())\n",
    "        except json.JSONDecodeError:\n",
    "            print(\"Matched text is not valid JSON\")\n",
    "            return None\n",
    "    else:\n",
    "        print(\"No JSON array found\")\n",
    "        return None\n"
   ]
  },
  {
   "cell_type": "code",
   "execution_count": 11,
   "id": "09fc2550",
   "metadata": {},
   "outputs": [],
   "source": [
    "#generating the questions\n",
    "def generate_mcqs(topic: str, chunk: str) -> str:\n",
    "    prompt = f\"\"\"\n",
    "You are a test-set generator. Based on the following content about \"{topic}\", generate 2 multiple choice questions (each with 4 options and 1 correct answer):\n",
    "\n",
    "\\\"\\\"\\\"\n",
    "{chunk}\n",
    "\\\"\\\"\\\"\n",
    "\n",
    "Format:\n",
    "Q: Question?\n",
    "a) Option A\n",
    "b) Option B\n",
    "c) Option C\n",
    "d) Option D\n",
    "Answer: <correct letter>\n",
    "    \"\"\".strip()\n",
    "    model = OllamaLLM(model=\"deepseek-r1:1.5b\")\n",
    "    chain = prompt | model | StrOutputParser()\n",
    "    full_question = chain.invoke({\"topic\": topic, \"chunk\": chunk})\n",
    "    return full_question"
   ]
  },
  {
   "cell_type": "code",
   "execution_count": 12,
   "id": "cb36955b",
   "metadata": {},
   "outputs": [],
   "source": [
    "# #getting the topics\n",
    "# topics = get_topics(vectorstore)"
   ]
  },
  {
   "cell_type": "code",
   "execution_count": 13,
   "id": "df469d49",
   "metadata": {},
   "outputs": [
    {
     "name": "stdout",
     "output_type": "stream",
     "text": [
      "Processing topic: Redemption Through Jesus\n",
      "No documents found for topic: Redemption Through Jesus\n",
      "Processing topic: Understanding God Through His Word\n",
      "No documents found for topic: Understanding God Through His Word\n",
      "Processing topic: The Attributes of God's Love\n",
      "No documents found for topic: The Attributes of God's Love\n",
      "Processing topic: Seeking a Better Country for God's Plan\n",
      "No documents found for topic: Seeking a Better Country for God's Plan\n",
      "Processing topic: Examining the Holy Spirit's Role on Earth\n",
      "No documents found for topic: Examining the Holy Spirit's Role on Earth\n",
      "Processing topic: Spiritual Growth\n",
      "No documents found for topic: Spiritual Growth\n",
      "{}\n"
     ]
    }
   ],
   "source": [
    "# Get all topics\n",
    "topics = get_topics(vectorstore)\n",
    "all_generated_questions = {}\n",
    "\n",
    "for topic in topics:\n",
    "    print(f\"Processing topic: {topic}\")\n",
    "    parent_docs = get_parent_docs(topic)\n",
    "    \n",
    "    if not parent_docs:\n",
    "        print(f\"No documents found for topic: {topic}\")\n",
    "        continue\n",
    "\n",
    "    test_questions = []\n",
    "\n",
    "    for doc in parent_docs:\n",
    "        quiz = generate_mcqs(topic, doc.page_content)\n",
    "        if quiz:\n",
    "            test_questions.append(quiz)\n",
    "        else:\n",
    "            print(f\"Failed to generate question for topic: {topic}\")\n",
    "\n",
    "    all_generated_questions[topic] = test_questions\n",
    "\n",
    "# Print final result\n",
    "print(json.dumps(all_generated_questions, indent=2))"
   ]
  },
  {
   "cell_type": "code",
   "execution_count": 14,
   "id": "535352b5",
   "metadata": {},
   "outputs": [
    {
     "name": "stdout",
     "output_type": "stream",
     "text": [
      "{}\n"
     ]
    }
   ],
   "source": [
    "print(all_generated_questions)"
   ]
  }
 ],
 "metadata": {
  "kernelspec": {
   "display_name": "myenv",
   "language": "python",
   "name": "python3"
  },
  "language_info": {
   "codemirror_mode": {
    "name": "ipython",
    "version": 3
   },
   "file_extension": ".py",
   "mimetype": "text/x-python",
   "name": "python",
   "nbconvert_exporter": "python",
   "pygments_lexer": "ipython3",
   "version": "3.12.11"
  }
 },
 "nbformat": 4,
 "nbformat_minor": 5
}
